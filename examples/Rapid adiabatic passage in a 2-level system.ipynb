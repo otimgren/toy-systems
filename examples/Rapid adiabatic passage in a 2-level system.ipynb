{
 "cells": [
  {
   "cell_type": "markdown",
   "id": "e915cdc7-c4cb-436f-a356-55c71fac5226",
   "metadata": {},
   "source": [
    "# Rapid adiabatic passage in a 2-level system\n",
    "This notebook illustrates using the `toy_systems` package to set up a Hamiltonian and decay matrix for a two level system and then performing rapid adiabatic passage on the system. The main difference between this notebook and the notebook on Rabi oscillations (*Rabi oscillations in 2-level system.ipynb*) is that the Rabi rate and detuning of the of the drive field will be time-dependent. Thus this notebook primarily serves to illustrate how to deal with a time-dependent Hamiltonian.\n",
    "\n",
    "## Imports\n",
    "Start by importing the necessary packages"
   ]
  },
  {
   "cell_type": "code",
   "execution_count": 1,
   "id": "813bc2be-e519-4ff9-9d7e-fee209e1bb30",
   "metadata": {},
   "outputs": [],
   "source": [
    "%load_ext autoreload\n",
    "%autoreload 2\n",
    "\n",
    "import matplotlib.pyplot as plt\n",
    "plt.style.use(\"ggplot\")\n",
    "import numpy as np\n",
    "import qutip\n",
    "from sympy import Symbol\n",
    "\n",
    "from toy_systems.couplings import ToyCoupling, ToyEnergy\n",
    "from toy_systems.decays import Decay\n",
    "from toy_systems.hamiltonian import Hamiltonian\n",
    "from toy_systems.states import Basis, BasisState, ToyQuantumNumbers"
   ]
  },
  {
   "cell_type": "markdown",
   "id": "af092aa8-d8a0-4ee3-aa9f-a2d6d763d6a0",
   "metadata": {},
   "source": [
    "## Define states\n",
    "We start by defining the two states of the system: the ground state $|g\\rangle$ and the excited $|e\\rangle$, which we will later set to have a decay path to $|g\\rangle$:"
   ]
  },
  {
   "cell_type": "code",
   "execution_count": 2,
   "id": "45081130-5eb8-4fb7-9ea9-4744275451c4",
   "metadata": {},
   "outputs": [
    {
     "name": "stdout",
     "output_type": "stream",
     "text": [
      "|g> = |g>\n",
      "|e> = |e>\n",
      "<e|g> = 0\n"
     ]
    }
   ],
   "source": [
    "g = BasisState(qn=ToyQuantumNumbers(label=\"g\"))\n",
    "e = BasisState(qn=ToyQuantumNumbers(label=\"e\"))\n",
    "\n",
    "# Print the states as a check\n",
    "print(f\"|g> = {g}\")\n",
    "print(f\"|e> = {e}\")\n",
    "\n",
    "# Check that the states are orthogonal by taking inner product\n",
    "print(f\"<e|g> = {e @ g}\")"
   ]
  },
  {
   "cell_type": "markdown",
   "id": "70886c84-b8b5-4e5b-937f-6faaccf352fa",
   "metadata": {},
   "source": [
    "## Define basis\n",
    "We use the two orthogonal states to define a basis as shown below. The indexing of the matrix and vector representations of operators is determined by the order of the states when generating the state"
   ]
  },
  {
   "cell_type": "code",
   "execution_count": 3,
   "id": "0b8ff6db-fe37-4e39-b0a3-af4b85a028a9",
   "metadata": {},
   "outputs": [
    {
     "name": "stdout",
     "output_type": "stream",
     "text": [
      "|0> = |g>\n",
      "|1> = |e>\n"
     ]
    }
   ],
   "source": [
    "basis = Basis((g,e))\n",
    "basis.print_basis()"
   ]
  },
  {
   "cell_type": "markdown",
   "id": "470dd255-4735-44e0-add1-ddb534a04e96",
   "metadata": {},
   "source": [
    "## Define energies\n",
    "I'm going to define the system in the rotating frame so that the Hamiltonian doesn't have any quickly rotating terms of the form $e^{i\\omega t}$. The detuning between the driving field and the natural frequency of the system is taken to be $\\Delta(t)$ (time-varying), so I can set the energies of the two states to be $E_g = -\\Delta/2$ and $E_e = \\Delta/2$.\n",
    "\n",
    "Note: the time dependence will be multiplied by the value of $\\Delta$ when time-evolving the Hamiltonian."
   ]
  },
  {
   "cell_type": "code",
   "execution_count": 19,
   "id": "3f2aa1f6-665d-4b3f-98de-e72f5bb88f8a",
   "metadata": {},
   "outputs": [],
   "source": [
    "Δ = Symbol('Delta') # Using sympy to generate a symbolic Hamiltonian first (to make a \"Δ\" type \"\\Delta\", then press tab)\n",
    "E_g = ToyEnergy(g, g, -Δ/2, time_dep = \"t\") # Note the linear time-dependence\n",
    "E_e = ToyEnergy(e, e, +Δ/2, time_dep = \"t\")"
   ]
  },
  {
   "cell_type": "markdown",
   "id": "3d281754-5085-4f68-a3e3-035db376a9cf",
   "metadata": {},
   "source": [
    "### Define coupling\n",
    "I'm taking the strength of the driving field to vary as a Gaussian over time. This time dependence of the drive field may result in the probability of state transfer durin RAP being slightly different from "
   ]
  },
  {
   "cell_type": "code",
   "execution_count": 5,
   "id": "c552319c-486f-47d1-b316-195e940370d7",
   "metadata": {},
   "outputs": [],
   "source": [
    "Ω = Symbol('Omega') \n",
    "coupling = ToyCoupling(g, e, Ω, time_dep = \"exp(-t**2/(2*sigma**2))\", time_args={\"sigma\": 1})"
   ]
  },
  {
   "cell_type": "markdown",
   "id": "3da81db8-f130-46d9-b8fd-12d5aff6dea4",
   "metadata": {},
   "source": [
    "## Define Hamiltonian\n",
    "Now that we have the states, energies and couplings, we can define the Hamiltonian"
   ]
  },
  {
   "cell_type": "code",
   "execution_count": 6,
   "id": "9f692f4c-2a8e-458b-a187-bb4e2e7ab4ce",
   "metadata": {},
   "outputs": [
    {
     "data": {
      "text/plain": [
       "Hamiltonian with:\n",
       "\n",
       "Couplings: (ToyEnergy(state_a=|g>, state_b=|g>, mag=-Delta/2, time_dep='t', time_args={}), ToyEnergy(state_a=|e>, state_b=|e>, mag=Delta/2, time_dep='t', time_args={}), ToyCoupling(state_a=|g>, state_b=|e>, mag=Omega, time_dep='exp(-t**2/(2*sigma**2))', time_args={'sigma': 1}))\n",
       "\n",
       "Basis: name = None"
      ]
     },
     "metadata": {},
     "output_type": "display_data"
    },
    {
     "data": {
      "text/plain": [
       "H =\n",
       "[\n",
       "[        -Delta/2,   Omega],\n",
       "[conjugate(Omega), Delta/2]]\n",
       "\n",
       "in basis Basis: name = None"
      ]
     },
     "metadata": {},
     "output_type": "display_data"
    }
   ],
   "source": [
    "H = Hamiltonian(basis, (E_g, E_e, coupling))\n",
    "display(H)\n",
    "\n",
    "# Generate the matrix representation of the Hamiltonian\n",
    "H.generate_matrix()\n",
    "display(H)\n",
    "\n",
    "# Generate Qobj for the Hamiltonian\n",
    "H.generate_qobj()"
   ]
  },
  {
   "cell_type": "markdown",
   "id": "33daf9d9-203d-4e53-88cf-fc138bafb974",
   "metadata": {},
   "source": [
    "## Define decay matrix from |e> to |g>\n",
    "Can add a spontaneous decay from the excited state to the ground state as shown below:"
   ]
  },
  {
   "cell_type": "code",
   "execution_count": 20,
   "id": "4762f0d9-a8f4-47eb-a365-3da8c301d5f1",
   "metadata": {},
   "outputs": [
    {
     "data": {
      "text/plain": [
       "array([[0, Gamma**0.5],\n",
       "       [0, 0]], dtype=object)"
      ]
     },
     "execution_count": 20,
     "metadata": {},
     "output_type": "execute_result"
    }
   ],
   "source": [
    "decay = Decay(e, g, Symbol(\"Gamma\"))\n",
    "decay.generate_decay_matrix(basis)\n",
    "decay.matrix_sym"
   ]
  },
  {
   "cell_type": "markdown",
   "id": "ed7f6b56-adc2-4c83-8c58-002c88114001",
   "metadata": {},
   "source": [
    "## Time-evolution using `QuTiP`\n",
    "The `toy_systems` package is designed to take care of generating the Hamiltonian and collapse operators for the quantum system, and spit out a `qutip.QobjEVo`-object. The actual time-evolution is then taken care of by `qutip` (or something else if the user so desires).\n",
    "\n",
    "To get the adiabatic passage to work, the adiabatic condition needs to be fulfilled: $\\Omega^2/\\frac{dD}{dt} >> 1$. The width of the Gaussian describing the time dependence of the drive field also seems to play a role."
   ]
  },
  {
   "cell_type": "code",
   "execution_count": 8,
   "id": "dcce13bd-1417-4285-a530-2aa0ef7ed132",
   "metadata": {},
   "outputs": [
    {
     "name": "stdout",
     "output_type": "stream",
     "text": [
      "Keys for setting arguments:\n",
      "dict_keys(['Delta', 'sigma', 'Omega'])\n"
     ]
    }
   ],
   "source": [
    "print(\"Keys for setting arguments:\")\n",
    "print(H.qobj.args.keys())"
   ]
  },
  {
   "cell_type": "code",
   "execution_count": 18,
   "id": "1169232e-3e7d-4060-85d6-181427cfb9d1",
   "metadata": {},
   "outputs": [
    {
     "name": "stdout",
     "output_type": "stream",
     "text": [
      " Total run time:   1.16s*] Elapsed 1.16s / Remaining 00:00:00:00\n"
     ]
    }
   ],
   "source": [
    "# Generate a Qobj representing the initial state\n",
    "psi0 = (1*g).qobj(basis)\n",
    "\n",
    "# Make operators for getting the probability of being in each state\n",
    "P_g_op = qutip.Qobj((1*g).density_matrix(basis), type = \"oper\")\n",
    "P_e_op = qutip.Qobj((1*e).density_matrix(basis), type = \"oper\")\n",
    "\n",
    "# Set the parameters for the system\n",
    "H.qobj.args[\"Delta\"] = 1 # This is actually the rate at which delta varies, i.e. dD/dt \n",
    "H.qobj.args[\"sigma\"] = 5 # Width of the Gaussian describing time-dependence of drive field\n",
    "H.qobj.args[\"Omega\"] = 5 # The maximum value of the drive field Rabi rate\n",
    "\n",
    "\n",
    "times = np.linspace(-100,100,1001) # Times at which result is requested\n",
    "\n",
    "# The solver used by qutip sometimes doesn't seem to notice that adiabatic passage is supposed to be happening, so reduce max step size to \n",
    "# mitigate this \n",
    "options = qutip.solver.Options(method = 'adams', nsteps=10000, max_step=1e0)\n",
    "\n",
    "# Setup a progress bar\n",
    "pb = qutip.ui.progressbar.EnhancedTextProgressBar()\n",
    "\n",
    "# Run the time-evolution\n",
    "result = qutip.mesolve(H.qobj, psi0, times, c_ops = decay.qobj(0), e_ops = [P_g_op, P_e_op],\n",
    "                      progress_bar=pb, options = options)"
   ]
  },
  {
   "cell_type": "markdown",
   "id": "b131ca02-c4b2-4c32-a1c7-eaa88dc67c6f",
   "metadata": {},
   "source": [
    "Plot the result:"
   ]
  },
  {
   "cell_type": "code",
   "execution_count": 16,
   "id": "7822cad5-634c-4f4b-9775-655430dfe19e",
   "metadata": {},
   "outputs": [
    {
     "data": {
      "text/plain": [
       "Text(0, 0.5, 'Population in each state')"
      ]
     },
     "execution_count": 16,
     "metadata": {},
     "output_type": "execute_result"
    },
    {
     "data": {
      "image/png": "[encoded data removed]",
      "text/plain": [
       "<Figure size 1152x648 with 1 Axes>"
      ]
     },
     "metadata": {},
     "output_type": "display_data"
    }
   ],
   "source": [
    "fig, ax = plt.subplots(figsize = (16,9))\n",
    "ax.plot(times, result.expect[0], label = \"P_g\")\n",
    "ax.plot(times, result.expect[1], label = \"P_e\")\n",
    "ax.legend()\n",
    "ax.set_xlabel(\"Time / Ω\")\n",
    "ax.set_ylabel(\"Population in each state\")"
   ]
  },
  {
   "cell_type": "markdown",
   "id": "ab4508c6-2190-4993-bc7d-c51e35cd221c",
   "metadata": {},
   "source": [
    "## What does rapid mean?\n",
    "Rapid and adiabatic usually don't go well together. Adiabatic, as mentioned earlier, refers to satisfying the condition $\\Omega^2/\\frac{dD}{dt} >> 1$ which basically says the detuning should change slowly enough compared to the Rabi rate. The \"rapid\" in \"Rapid adiabatic passage\" actually refers to being quick compared to the lifetime of the excited state; if the excited state decays before the RAP is complete we don't get the desired population inversion."
   ]
  },
  {
   "cell_type": "code",
   "execution_count": 11,
   "id": "573ef352-0276-4d67-aae8-961eaa2356d2",
   "metadata": {},
   "outputs": [
    {
     "name": "stdout",
     "output_type": "stream",
     "text": [
      " Total run time:   0.91s*] Elapsed 0.91s / Remaining 00:00:00:00\n"
     ]
    },
    {
     "data": {
      "text/plain": [
       "Text(0, 0.5, 'Population in each state')"
      ]
     },
     "execution_count": 11,
     "metadata": {},
     "output_type": "execute_result"
    },
    {
     "data": {
      "image/png": "[encoded data removed]",
      "text/plain": [
       "<Figure size 1152x648 with 1 Axes>"
      ]
     },
     "metadata": {},
     "output_type": "display_data"
    }
   ],
   "source": [
    "# Generate a Qobj representing the initial state\n",
    "psi0 = (1*g).qobj(basis)\n",
    "\n",
    "# Make operators for getting the probability of being in each state\n",
    "P_g_op = qutip.Qobj((1*g).density_matrix(basis), type = \"oper\")\n",
    "P_e_op = qutip.Qobj((1*e).density_matrix(basis), type = \"oper\")\n",
    "\n",
    "# Set the parameters for the system\n",
    "H.qobj.args[\"Delta\"] = 1\n",
    "H.qobj.args[\"sigma\"] = 5\n",
    "H.qobj.args[\"Omega\"] = 5\n",
    "\n",
    "\n",
    "times = np.linspace(-100,100,1001) # Times at which result is requested\n",
    "\n",
    "# The solver used by qutip sometimes doesn't seem to notice that adiabatic passage is supposed to be happening, so reduce max step size to \n",
    "# mitigate this \n",
    "options = qutip.solver.Options(method = 'adams', nsteps=10000, max_step=1e0)\n",
    "\n",
    "# Setup a progress bar\n",
    "pb = qutip.ui.progressbar.EnhancedTextProgressBar()\n",
    "\n",
    "# Run the time-evolution\n",
    "result = qutip.mesolve(H.qobj, psi0, times, c_ops = decay.qobj(gamma = 1), e_ops = [P_g_op, P_e_op], # Can vary gamma here\n",
    "                      progress_bar=pb, options = options)\n",
    "\n",
    "# Plot the result\n",
    "fig, ax = plt.subplots(figsize = (16,9))\n",
    "ax.plot(times, result.expect[0], label = \"P_g\")\n",
    "ax.plot(times, result.expect[1], label = \"P_e\")\n",
    "ax.legend()\n",
    "ax.set_xlabel(\"Time / Ω\")\n",
    "ax.set_ylabel(\"Population in each state\")"
   ]
  },
  {
   "cell_type": "code",
   "execution_count": null,
   "id": "05488892-ca77-4960-8433-170c5c1b5899",
   "metadata": {},
   "outputs": [],
   "source": []
  }
 ],
 "metadata": {
  "kernelspec": {
   "display_name": "Python 3 (ipykernel)",
   "language": "python",
   "name": "python3"
  },
  "language_info": {
   "codemirror_mode": {
    "name": "ipython",
    "version": 3
   },
   "file_extension": ".py",
   "mimetype": "text/x-python",
   "name": "python",
   "nbconvert_exporter": "python",
   "pygments_lexer": "ipython3",
   "version": "3.9.7"
  }
 },
 "nbformat": 4,
 "nbformat_minor": 5
}

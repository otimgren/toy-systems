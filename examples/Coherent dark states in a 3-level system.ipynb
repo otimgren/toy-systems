{
 "cells": [
  {
   "cell_type": "markdown",
   "id": "2e18ca3a-853f-4d0a-adc1-f00b8c3b7a8e",
   "metadata": {},
   "source": [
    "# Coherent dark states in a 3-level system\n",
    "Investigating coherent dark states in 3-level system using the `toy_systems` package. \n",
    "\n",
    "The 3-level system will consist of two ground states which are both coupled to the same excited state, which in turn can decay back to both of the ground states. A similar situation can be found in TlF when driving optical transitions from the electronic ground state X to the excited state B. The spacing of hyperfine levels in X is much smaller than the natural linewidth of the transitions, so that multiple groundstate hyperfine states end up coupling to one excited state hyperfine state. The number of coherent dark states in this scenario is N-1 where N is the number of ground states coupling to the same excited state. The dark states are typically not eigenstates of the internal Hamiltonian (e.g. TlF internal Hamiltonian) and so they evolve into bright states over time - we'll investigate the rate at which this occurs as the coupling strength of the ground states to the excited state and their energy splitting is varied.\n",
    "## Imports\n",
    "Start by importing the necessary packages"
   ]
  },
  {
   "cell_type": "code",
   "execution_count": 1,
   "id": "fa7a7df1-0102-4881-9684-eac979404253",
   "metadata": {},
   "outputs": [],
   "source": [
    "%load_ext autoreload\n",
    "%autoreload 2\n",
    "\n",
    "import matplotlib.pyplot as plt\n",
    "plt.style.use(\"ggplot\")\n",
    "import numpy as np\n",
    "import qutip\n",
    "from sympy import Symbol\n",
    "\n",
    "from toy_systems.couplings import ToyCoupling, ToyEnergy\n",
    "from toy_systems.decays import ToyDecay\n",
    "from toy_systems.hamiltonian import Hamiltonian\n",
    "from toy_systems.quantum_system import QuantumSystem\n",
    "from toy_systems.states import Basis, BasisState, ToyQuantumNumbers"
   ]
  },
  {
   "cell_type": "markdown",
   "id": "d8bcf804-bb7b-499d-9a03-ba9d0b040d95",
   "metadata": {},
   "source": [
    "## Set up states and basis\n",
    "We start by defining the three states of the system: the ground states $|g0\\rangle$ and $|g1\\rangle$, and the excited state $|e\\rangle$>"
   ]
  },
  {
   "cell_type": "code",
   "execution_count": 2,
   "id": "5874c55a-915b-4ffb-b742-f8fc06036183",
   "metadata": {},
   "outputs": [
    {
     "name": "stdout",
     "output_type": "stream",
     "text": [
      "|0> = |g0>\n",
      "|1> = |g1>\n",
      "|2> = |e>\n"
     ]
    }
   ],
   "source": [
    "g0 = BasisState(qn=ToyQuantumNumbers(label=\"g0\"))\n",
    "g1 = BasisState(qn=ToyQuantumNumbers(label=\"g1\"))\n",
    "e = BasisState(qn=ToyQuantumNumbers(label=\"e\"))\n",
    "\n",
    "# Define basis\n",
    "basis = Basis((g0,g1,e))\n",
    "basis.print_basis()"
   ]
  },
  {
   "cell_type": "markdown",
   "id": "b7347c88-d98d-4cce-96ce-b62837ad4459",
   "metadata": {},
   "source": [
    "## Define energies, couplings, decays and quantum system\n",
    "I'm going to define the system in the rotating frame as usual."
   ]
  },
  {
   "cell_type": "markdown",
   "id": "f9fd55eb-fade-4edc-bf44-f1d9d902b562",
   "metadata": {},
   "source": [
    "### Energies"
   ]
  },
  {
   "cell_type": "code",
   "execution_count": 3,
   "id": "52119493-c7cd-4637-9129-a0697c528418",
   "metadata": {},
   "outputs": [],
   "source": [
    "δ = Symbol('delta') # Energy splitting between |g0> and |g1\n",
    "Δ = Symbol('Delta') # Detuning of drive field from 0\n",
    "E0 = ToyEnergy(g0, -δ/2)\n",
    "E1 = ToyEnergy(g1, +δ/2)\n",
    "Ee = ToyEnergy(e, Δ)"
   ]
  },
  {
   "cell_type": "markdown",
   "id": "604f6e20-ffed-4a73-aee4-610a745efb76",
   "metadata": {},
   "source": [
    "### Couplings"
   ]
  },
  {
   "cell_type": "code",
   "execution_count": 4,
   "id": "1fed07a7-ff4b-4a48-b205-3f7df0857ee2",
   "metadata": {},
   "outputs": [],
   "source": [
    "Ω0 = Symbol('Omega_0') # Drive field Rabi rate for |g0> <-> |e>\n",
    "Ω1 = Symbol('Omega_1') # Drive field Rabi rate for |g1> <-> |e>\n",
    "\n",
    "coupling_0 = ToyCoupling(g0,e,Ω0)\n",
    "coupling_1 = ToyCoupling(g1,e,Ω1)"
   ]
  },
  {
   "cell_type": "markdown",
   "id": "028f74b8-b9cc-4d7c-9c8e-b5d88ab45e6b",
   "metadata": {},
   "source": [
    "### Decays\n",
    "Defining a decay from $|e\\rangle$ to $|g0\\rangle$ and $|g1\\rangle$:"
   ]
  },
  {
   "cell_type": "code",
   "execution_count": 5,
   "id": "da031a67-c09e-4cb7-8ac7-0a327886a605",
   "metadata": {},
   "outputs": [],
   "source": [
    "decay_0 = ToyDecay(e, ground = g0, gamma = Symbol(\"Gamma_0\"))\n",
    "decay_1 = ToyDecay(e, ground = g1, gamma = Symbol(\"Gamma_1\"))"
   ]
  },
  {
   "cell_type": "markdown",
   "id": "004ff6ea-ceb5-42f7-a036-e9547d6966f8",
   "metadata": {},
   "source": [
    "### Define a QuantumSystem\n",
    "The QuantumSystem object combines the basis, Hamiltonian and decays to make setting parameters for time evolution using QuTiP more convenient."
   ]
  },
  {
   "cell_type": "code",
   "execution_count": 6,
   "id": "7d9ff625-9ce6-4d8d-a0de-ef03eb147994",
   "metadata": {},
   "outputs": [],
   "source": [
    "# Define the system\n",
    "system = QuantumSystem(\n",
    "    basis=basis,\n",
    "    couplings=[E0, E1, Ee, coupling_0, coupling_1],\n",
    "    decays=[decay_0, decay_1],\n",
    ")\n",
    "\n",
    "# Get representations of the Hamiltonian and the decays that will be accepted by qutip\n",
    "Hqobj, c_qobj = system.get_qobjs()"
   ]
  },
  {
   "cell_type": "markdown",
   "id": "00c376ac-bc20-4890-a5a4-063dfcdf587d",
   "metadata": {},
   "source": [
    "## Find dark states\n",
    "There is some rudimentary functionality in `toy_systems` for finding the bright and dark states when a number of ground states are coupled to a single excited state. Let's test that here:"
   ]
  },
  {
   "cell_type": "code",
   "execution_count": 8,
   "id": "ac8a78e3-beac-44f5-923e-480a58038b2c",
   "metadata": {},
   "outputs": [],
   "source": [
    "from toy_systems.dark_states import get_dark_states"
   ]
  },
  {
   "cell_type": "code",
   "execution_count": 9,
   "id": "ad1fda16-978b-4f3e-b8eb-cd04711a77a2",
   "metadata": {},
   "outputs": [
    {
     "ename": "NotImplementedError",
     "evalue": "memoryview: unsupported format Zd",
     "output_type": "error",
     "traceback": [
      "\u001b[1;31m---------------------------------------------------------------------------\u001b[0m",
      "\u001b[1;31mNotImplementedError\u001b[0m                       Traceback (most recent call last)",
      "\u001b[1;32m~\\AppData\\Local\\Temp/ipykernel_24552/1387646452.py\u001b[0m in \u001b[0;36m<module>\u001b[1;34m\u001b[0m\n\u001b[1;32m----> 1\u001b[1;33m \u001b[0mbright_state\u001b[0m\u001b[1;33m,\u001b[0m \u001b[0mdark_states\u001b[0m \u001b[1;33m=\u001b[0m \u001b[0mget_dark_states\u001b[0m\u001b[1;33m(\u001b[0m\u001b[1;33m[\u001b[0m\u001b[0mg0\u001b[0m\u001b[1;33m,\u001b[0m \u001b[0mg1\u001b[0m\u001b[1;33m]\u001b[0m\u001b[1;33m,\u001b[0m \u001b[0me\u001b[0m\u001b[1;33m,\u001b[0m \u001b[1;33m[\u001b[0m\u001b[0mcoupling_0\u001b[0m\u001b[1;33m,\u001b[0m \u001b[0mcoupling_1\u001b[0m\u001b[1;33m]\u001b[0m\u001b[1;33m)\u001b[0m\u001b[1;33m\u001b[0m\u001b[1;33m\u001b[0m\u001b[0m\n\u001b[0m",
      "\u001b[1;32m~\\Anaconda3\\envs\\toy_systems\\lib\\site-packages\\toy_systems-1.0-py3.9.egg\\toy_systems\\dark_states.py\u001b[0m in \u001b[0;36mget_dark_states\u001b[1;34m(ground_states, excited_state, couplings)\u001b[0m\n\u001b[0;32m     48\u001b[0m     \u001b[1;32mfor\u001b[0m \u001b[0mv\u001b[0m \u001b[1;32min\u001b[0m \u001b[0mdark_non\u001b[0m\u001b[1;33m:\u001b[0m\u001b[1;33m\u001b[0m\u001b[1;33m\u001b[0m\u001b[0m\n\u001b[0;32m     49\u001b[0m         \u001b[1;32mfor\u001b[0m \u001b[0mu\u001b[0m \u001b[1;32min\u001b[0m \u001b[0mdark_ortho\u001b[0m\u001b[1;33m:\u001b[0m\u001b[1;33m\u001b[0m\u001b[1;33m\u001b[0m\u001b[0m\n\u001b[1;32m---> 50\u001b[1;33m             \u001b[0mv\u001b[0m \u001b[1;33m-=\u001b[0m \u001b[0mv\u001b[0m \u001b[1;33m@\u001b[0m \u001b[0mu\u001b[0m\u001b[1;33m\u001b[0m\u001b[1;33m\u001b[0m\u001b[0m\n\u001b[0m\u001b[0;32m     51\u001b[0m \u001b[1;33m\u001b[0m\u001b[0m\n\u001b[0;32m     52\u001b[0m         \u001b[0mdark_ortho\u001b[0m\u001b[1;33m.\u001b[0m\u001b[0mappend\u001b[0m\u001b[1;33m(\u001b[0m\u001b[0mv\u001b[0m\u001b[1;33m)\u001b[0m\u001b[1;33m\u001b[0m\u001b[1;33m\u001b[0m\u001b[0m\n",
      "\u001b[1;32m~\\Anaconda3\\envs\\toy_systems\\lib\\site-packages\\toy_systems-1.0-py3.9.egg\\toy_systems\\states.py\u001b[0m in \u001b[0;36m__sub__\u001b[1;34m(self, other)\u001b[0m\n\u001b[0;32m    213\u001b[0m         \u001b[0mSubtract\u001b[0m \u001b[0mtwo\u001b[0m \u001b[0mstates\u001b[0m \u001b[1;33m(\u001b[0m\u001b[0mdoesn\u001b[0m\u001b[0;31m'\u001b[0m\u001b[0mt\u001b[0m \u001b[0mnormalize\u001b[0m \u001b[0mresulting\u001b[0m \u001b[0mstate\u001b[0m\u001b[1;33m)\u001b[0m\u001b[1;33m.\u001b[0m\u001b[1;33m\u001b[0m\u001b[1;33m\u001b[0m\u001b[0m\n\u001b[0;32m    214\u001b[0m         \"\"\"\n\u001b[1;32m--> 215\u001b[1;33m         \u001b[1;32mreturn\u001b[0m \u001b[0mself\u001b[0m \u001b[1;33m+\u001b[0m \u001b[1;33m-\u001b[0m\u001b[1;36m1\u001b[0m \u001b[1;33m*\u001b[0m \u001b[0mother\u001b[0m\u001b[1;33m\u001b[0m\u001b[1;33m\u001b[0m\u001b[0m\n\u001b[0m\u001b[0;32m    216\u001b[0m \u001b[1;33m\u001b[0m\u001b[0m\n\u001b[0;32m    217\u001b[0m     \u001b[1;32mdef\u001b[0m \u001b[0m__mul__\u001b[0m\u001b[1;33m(\u001b[0m\u001b[0mself\u001b[0m\u001b[1;33m,\u001b[0m \u001b[0ma\u001b[0m\u001b[1;33m)\u001b[0m\u001b[1;33m:\u001b[0m\u001b[1;33m\u001b[0m\u001b[1;33m\u001b[0m\u001b[0m\n",
      "\u001b[1;32m~\\Anaconda3\\envs\\toy_systems\\lib\\site-packages\\toy_systems-1.0-py3.9.egg\\toy_systems\\states.py\u001b[0m in \u001b[0;36m__add__\u001b[1;34m(self, other)\u001b[0m\n\u001b[0;32m    189\u001b[0m         \u001b[1;32mfor\u001b[0m \u001b[0mamp1\u001b[0m\u001b[1;33m,\u001b[0m \u001b[0mcpt1\u001b[0m \u001b[1;32min\u001b[0m \u001b[0mself\u001b[0m\u001b[1;33m.\u001b[0m\u001b[0mdata\u001b[0m\u001b[1;33m:\u001b[0m\u001b[1;33m\u001b[0m\u001b[1;33m\u001b[0m\u001b[0m\n\u001b[0;32m    190\u001b[0m             \u001b[0monly_in_self\u001b[0m \u001b[1;33m=\u001b[0m \u001b[1;32mTrue\u001b[0m\u001b[1;33m\u001b[0m\u001b[1;33m\u001b[0m\u001b[0m\n\u001b[1;32m--> 191\u001b[1;33m             \u001b[1;32mfor\u001b[0m \u001b[0mamp2\u001b[0m\u001b[1;33m,\u001b[0m \u001b[0mcpt2\u001b[0m \u001b[1;32min\u001b[0m \u001b[0mother\u001b[0m\u001b[1;33m.\u001b[0m\u001b[0mdata\u001b[0m\u001b[1;33m:\u001b[0m\u001b[1;33m\u001b[0m\u001b[1;33m\u001b[0m\u001b[0m\n\u001b[0m\u001b[0;32m    192\u001b[0m                 \u001b[1;32mif\u001b[0m \u001b[0mcpt2\u001b[0m \u001b[1;33m==\u001b[0m \u001b[0mcpt1\u001b[0m\u001b[1;33m:\u001b[0m\u001b[1;33m\u001b[0m\u001b[1;33m\u001b[0m\u001b[0m\n\u001b[0;32m    193\u001b[0m                     \u001b[0monly_in_self\u001b[0m \u001b[1;33m=\u001b[0m \u001b[1;32mFalse\u001b[0m\u001b[1;33m\u001b[0m\u001b[1;33m\u001b[0m\u001b[0m\n",
      "\u001b[1;31mNotImplementedError\u001b[0m: memoryview: unsupported format Zd"
     ]
    }
   ],
   "source": [
    "bright_state, dark_states = get_dark_states([g0, g1], e, [coupling_0, coupling_1])"
   ]
  },
  {
   "cell_type": "code",
   "execution_count": null,
   "id": "3ef3bc9b-752c-4f3c-b1b6-10d6b0b7567c",
   "metadata": {},
   "outputs": [],
   "source": []
  }
 ],
 "metadata": {
  "kernelspec": {
   "display_name": "Python 3 (ipykernel)",
   "language": "python",
   "name": "python3"
  },
  "language_info": {
   "codemirror_mode": {
    "name": "ipython",
    "version": 3
   },
   "file_extension": ".py",
   "mimetype": "text/x-python",
   "name": "python",
   "nbconvert_exporter": "python",
   "pygments_lexer": "ipython3",
   "version": "3.9.7"
  }
 },
 "nbformat": 4,
 "nbformat_minor": 5
}

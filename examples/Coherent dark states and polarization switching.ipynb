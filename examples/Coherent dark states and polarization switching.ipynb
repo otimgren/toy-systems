{
 "cells": [
  {
   "cell_type": "markdown",
   "id": "da6de2f2-fe49-44aa-89eb-707fb7dcdd68",
   "metadata": {},
   "source": [
    "# Coherent dark states and polarization switching\n",
    "Studying the effect of polarization switching on coherent dark states in a 9-level system. The system is made of two ground states, one excited state but all with J = 1 for a total of nine levels. Basically just 3x the 3-level system studied in \"Coherent dark states in a 3-level system.ipynb\".\n",
    "\n",
    "## Imports\n",
    "Start by importing the necessary packages"
   ]
  },
  {
   "cell_type": "code",
   "execution_count": 1,
   "id": "78c2cefa-8b91-439b-b3ab-bbf2cd25bcce",
   "metadata": {},
   "outputs": [],
   "source": [
    "%load_ext autoreload\n",
    "%autoreload 2\n",
    "\n",
    "import joblib\n",
    "import matplotlib.pyplot as plt\n",
    "plt.style.use(\"ggplot\")\n",
    "import numpy as np\n",
    "import scipy\n",
    "import qutip\n",
    "from sympy import Symbol\n",
    "\n",
    "from toy_systems.couplings import FirstRankCouplingJ, ToyEnergy\n",
    "from toy_systems.dark_states import get_dark_states\n",
    "from toy_systems.decays import CouplingDecay\n",
    "from toy_systems.hamiltonian import Hamiltonian\n",
    "from toy_systems.quantum_system import QuantumSystem\n",
    "from toy_systems.states import Basis, BasisState, JQuantumNumbers"
   ]
  },
  {
   "cell_type": "markdown",
   "id": "a7021af1-5c90-4c0e-aa8d-07ddc11d2d6a",
   "metadata": {},
   "source": [
    "## Set up states and basis\n",
    "We start by defining the three states of the system: the ground states $|g0\\rangle$ and $|g1\\rangle$, and the excited state $|e\\rangle$>"
   ]
  },
  {
   "cell_type": "code",
   "execution_count": 2,
   "id": "25060c53-9d0c-4faf-bc7b-32327830163b",
   "metadata": {},
   "outputs": [
    {
     "name": "stdout",
     "output_type": "stream",
     "text": [
      "|0> = |J = 1, mJ = -1, label = g0>\n",
      "|1> = |J = 1, mJ = 0, label = g0>\n",
      "|2> = |J = 1, mJ = 1, label = g0>\n",
      "|3> = |J = 1, mJ = -1, label = g1>\n",
      "|4> = |J = 1, mJ = 0, label = g1>\n",
      "|5> = |J = 1, mJ = 1, label = g1>\n",
      "|6> = |J = 1, mJ = -1, label = e>\n",
      "|7> = |J = 1, mJ = 0, label = e>\n",
      "|8> = |J = 1, mJ = 1, label = e>\n"
     ]
    }
   ],
   "source": [
    "g0s = [BasisState(qn=JQuantumNumbers(label=\"g0\", J = 1, mJ = mJ)) for mJ in np.arange(-1,2)]\n",
    "g1s = [BasisState(qn=JQuantumNumbers(label=\"g1\", J = 1, mJ = mJ)) for mJ in np.arange(-1,2)]\n",
    "es = [BasisState(qn=JQuantumNumbers(label=\"e\", J = 1, mJ = mJ)) for mJ in np.arange(-1,2)]\n",
    "\n",
    "# Define basis\n",
    "basis = Basis(g0s+g1s+es)\n",
    "basis.print()"
   ]
  },
  {
   "cell_type": "markdown",
   "id": "f3b1699b-c869-48a9-bc89-25506dd44581",
   "metadata": {},
   "source": [
    "## Define energies, couplings, decays and quantum system\n",
    "I'm going to define the system in the rotating frame as usual."
   ]
  },
  {
   "cell_type": "markdown",
   "id": "b83d9861-3c07-4dfd-8adc-2364abdbc627",
   "metadata": {},
   "source": [
    "### Energies"
   ]
  },
  {
   "cell_type": "code",
   "execution_count": 3,
   "id": "f417b109-b08d-4fdf-a298-81a81e09a876",
   "metadata": {},
   "outputs": [],
   "source": [
    "δ = Symbol('delta') # Energy splitting between |g0> and |g1\n",
    "Δ = Symbol('Delta') # Detuning of drive field from 0\n",
    "E0 = ToyEnergy(g0s, -δ/2)\n",
    "E1 = ToyEnergy(g1s, +δ/2)\n",
    "Ee = ToyEnergy(es, Δ)"
   ]
  },
  {
   "cell_type": "markdown",
   "id": "6d10b829-0b93-4ab7-83f1-722a78f8e9db",
   "metadata": {},
   "source": [
    "### Couplings\n",
    "Will treat the problem as if it has two time dependent laser fields: one polarized along z and the other one along x. The polarization will rotate back and forth between the two directions"
   ]
  },
  {
   "cell_type": "code",
   "execution_count": 4,
   "id": "5089872a-8f0b-4075-b10a-60b40a5fb173",
   "metadata": {},
   "outputs": [],
   "source": [
    "Ω0 = Symbol('Omega_0') # Drive field Rabi rate for |g0> <-> |e>\n",
    "Ω1 = Symbol('Omega_1') # Drive field Rabi rate for |g1> <-> |e>\n",
    "\n",
    "# A condition to make sure the ground states don't get coupled to each other\n",
    "def both_not_ground(state1, state2):\n",
    "    return (state1.qn.label == 'e') or (state2.qn.label == 'e')\n",
    "\n",
    "coupling_z = FirstRankCouplingJ(Ω0, p_car=np.array((0,0,1)), other_conds = [both_not_ground])\n",
    "coupling_x = FirstRankCouplingJ(Ω1, p_car=np.array((1,0,0)), other_conds = [both_not_ground])"
   ]
  },
  {
   "cell_type": "markdown",
   "id": "66b5d493-b79b-4bd0-9d6d-d23a9a5ecbe6",
   "metadata": {},
   "source": [
    "### Decays\n",
    "Defining a decay from all $|e\\rangle$ to all $|g0\\rangle$ and $|g1\\rangle$ as permitted by angular momentum:"
   ]
  },
  {
   "cell_type": "code",
   "execution_count": 5,
   "id": "3c77c1ec-3bd4-4e8c-a0d3-f15f2c866ea0",
   "metadata": {},
   "outputs": [],
   "source": [
    "# Define dipole couplings that connect excited state to ground states\n",
    "decay_couplings = [\n",
    "    FirstRankCouplingJ(1, p_car=np.array((1,0,0)), other_conds=[both_not_ground]),\n",
    "    FirstRankCouplingJ(1, p_car=np.array((0,1,0)), other_conds=[both_not_ground]),\n",
    "    FirstRankCouplingJ(1, p_car=np.array((0,0,1)), other_conds=[both_not_ground]),\n",
    "]\n",
    "\n",
    "decays = [CouplingDecay(e, Symbol(\"Gamma\"), decay_couplings) for e in es] "
   ]
  },
  {
   "cell_type": "markdown",
   "id": "9ca563a7-1a11-48f3-974e-a0112d01f3bc",
   "metadata": {},
   "source": [
    "### Define a QuantumSystem\n",
    "The QuantumSystem object combines the basis, Hamiltonian and decays to make setting parameters for time evolution using QuTiP more convenient."
   ]
  },
  {
   "cell_type": "code",
   "execution_count": 6,
   "id": "2c5cda44-b831-4141-8d69-6afcc5cb60c6",
   "metadata": {},
   "outputs": [],
   "source": [
    "# Define the system\n",
    "system = QuantumSystem(\n",
    "    basis=basis,\n",
    "    couplings=[E0, E1, Ee, coupling_z, coupling_x],\n",
    "    decays=decays,\n",
    ")\n",
    "\n",
    "# Get representations of the Hamiltonian and the decays that will be accepted by qutip\n",
    "Hqobj, c_qobj = system.get_qobjs()"
   ]
  },
  {
   "cell_type": "code",
   "execution_count": 7,
   "id": "fd0d78ae-90d9-402c-b0c9-d8b450a20b1f",
   "metadata": {},
   "outputs": [
    {
     "data": {
      "text/plain": [
       "(Quantum object: dims = [[9], [9]], shape = (9, 9), type = oper, isherm = True\n",
       " Qobj data =\n",
       " [[ 0.          0.          0.          0.          0.          0.\n",
       "   -0.40824829  0.          0.        ]\n",
       "  [ 0.          0.          0.          0.          0.          0.\n",
       "    0.          0.          0.        ]\n",
       "  [ 0.          0.          0.          0.          0.          0.\n",
       "    0.          0.          0.40824829]\n",
       "  [ 0.          0.          0.          0.          0.          0.\n",
       "   -0.40824829  0.          0.        ]\n",
       "  [ 0.          0.          0.          0.          0.          0.\n",
       "    0.          0.          0.        ]\n",
       "  [ 0.          0.          0.          0.          0.          0.\n",
       "    0.          0.          0.40824829]\n",
       "  [-0.40824829  0.          0.         -0.40824829  0.          0.\n",
       "   -0.40824829  0.          0.        ]\n",
       "  [ 0.          0.          0.          0.          0.          0.\n",
       "    0.          0.          0.        ]\n",
       "  [ 0.          0.          0.40824829  0.          0.          0.40824829\n",
       "    0.          0.          0.40824829]],\n",
       " 'Omega_0')"
      ]
     },
     "execution_count": 7,
     "metadata": {},
     "output_type": "execute_result"
    }
   ],
   "source": [
    "system.couplings[3].qobj"
   ]
  },
  {
   "cell_type": "code",
   "execution_count": null,
   "id": "3392f6b6-130c-4d16-a3dc-d0d8cb8854ed",
   "metadata": {},
   "outputs": [],
   "source": []
  }
 ],
 "metadata": {
  "kernelspec": {
   "display_name": "Python 3 (ipykernel)",
   "language": "python",
   "name": "python3"
  },
  "language_info": {
   "codemirror_mode": {
    "name": "ipython",
    "version": 3
   },
   "file_extension": ".py",
   "mimetype": "text/x-python",
   "name": "python",
   "nbconvert_exporter": "python",
   "pygments_lexer": "ipython3",
   "version": "3.9.10"
  }
 },
 "nbformat": 4,
 "nbformat_minor": 5
}
